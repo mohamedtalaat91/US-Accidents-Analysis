{
 "cells": [
  {
   "cell_type": "markdown",
   "metadata": {},
   "source": [
    "# CDSP Deploma Mid Project\n",
    "## US Acceidents Data Analysis\n",
    ">### Project Overview\n",
    "> **US Accidents Analysis**\n",
    ">>* _This data is a subset of large data containing the US accidents from 2016 to 2023._        \n",
    ">>* _The original data contains about 7.7 Million records and 46 columns._           \n",
    ">>* _this subset data is splited randomly by sklearn library._       \n",
    ">>*  _Ensurd the sample is random and gives the same results as the original data._        \n",
    "\n",
    "> ### Flow of EDA\n",
    ">> **1- Load the data**  \n",
    ">> **2- explore the data**  \n",
    ">> **3- clean the data**  \n",
    ">> **4- make new features (features engineering)**     \n",
    ">> **5- perform EDA and gain insights**   \n"
   ]
  },
  {
   "cell_type": "code",
   "execution_count": null,
   "metadata": {},
   "outputs": [],
   "source": [
    "# import libraries\n",
    "import pandas as pd \n",
    "import numpy as np\n",
    "import plotly.express as px\n",
    "import plotly.graph_objects as go\n",
    "from sklearn.impute import SimpleImputer\n",
    "import folium\n",
    "from folium.plugins import HeatMap\n",
    "from datasist.structdata import detect_outliers \n",
    "from plotly.subplots import make_subplots\n",
    "from zipfile import ZipFile\n"
   ]
  },
  {
   "cell_type": "code",
   "execution_count": null,
   "metadata": {},
   "outputs": [],
   "source": [
    "# read data\n",
    "zip_file_path = \"Deployment/source/US_Accidents_March23_analysis.zip"\n",
    "with ZipFile(zip_file_path, 'r') as zip_ref:\n",
    "    zip_ref.extractall()\n",
    "extracted_files = zip_ref.namelist()\n",
    "csv_file_name = extracted_files[0] \n",
    "data = pd.read_csv(csv_file_name)"
   ]
  },
  {
   "cell_type": "code",
   "execution_count": null,
   "metadata": {},
   "outputs": [],
   "source": [
    "data.info()"
   ]
  },
  {
   "cell_type": "code",
   "execution_count": null,
   "metadata": {},
   "outputs": [],
   "source": [
    "data.shape"
   ]
  },
  {
   "cell_type": "code",
   "execution_count": null,
   "metadata": {},
   "outputs": [],
   "source": [
    "# convert column names to lowercase\n",
    "data.columns= data.columns.str.lower()"
   ]
  },
  {
   "cell_type": "code",
   "execution_count": null,
   "metadata": {},
   "outputs": [],
   "source": [
    "data.columns"
   ]
  },
  {
   "cell_type": "markdown",
   "metadata": {},
   "source": [
    "__droping some columns that are not needed__"
   ]
  },
  {
   "cell_type": "code",
   "execution_count": null,
   "metadata": {},
   "outputs": [],
   "source": [
    "data.drop(['id','source','description','street','airport_code','wind_direction','precipitation(in)','civil_twilight','nautical_twilight','astronomical_twilight','wind_chill(f)','pressure(in)','weather_timestamp','zipcode'],axis=1,inplace=True)"
   ]
  },
  {
   "cell_type": "markdown",
   "metadata": {},
   "source": [
    "__spliting data into _'data about accident'_ and _'accident conditions'___"
   ]
  },
  {
   "cell_type": "code",
   "execution_count": null,
   "metadata": {},
   "outputs": [],
   "source": [
    "accidents_conditions= data[['amenity','bump', 'crossing', 'give_way', 'junction', 'no_exit', 'railway','roundabout', 'station', 'stop', 'traffic_calming', 'traffic_signal','turning_loop']]"
   ]
  },
  {
   "cell_type": "code",
   "execution_count": null,
   "metadata": {},
   "outputs": [],
   "source": [
    "data.drop(accidents_conditions.columns,axis=1,inplace=True)"
   ]
  },
  {
   "cell_type": "markdown",
   "metadata": {},
   "source": [
    "__chicking for missing values__"
   ]
  },
  {
   "cell_type": "code",
   "execution_count": null,
   "metadata": {},
   "outputs": [],
   "source": [
    "data.isna().sum()"
   ]
  },
  {
   "cell_type": "code",
   "execution_count": null,
   "metadata": {},
   "outputs": [],
   "source": [
    "#percentage of missing values in each column\n",
    "missing_percentage = data.isna().sum().sort_values(ascending = False) / len(data) * 100\n",
    "px.bar(missing_percentage[missing_percentage > 0], color=missing_percentage[missing_percentage > 0], text_auto = True,color_continuous_scale=px.colors.sequential.Emrld)"
   ]
  },
  {
   "cell_type": "code",
   "execution_count": null,
   "metadata": {},
   "outputs": [],
   "source": [
    "# conver to datetime\n",
    "data.start_time = pd.to_datetime(data.start_time,format='mixed')\n",
    "data.end_time = pd.to_datetime(data.end_time,format='mixed')"
   ]
  },
  {
   "cell_type": "code",
   "execution_count": null,
   "metadata": {},
   "outputs": [],
   "source": [
    "# check for distance = 0\n",
    "data[round(data['distance(mi)'],1) == 0.0].shape"
   ]
  },
  {
   "cell_type": "markdown",
   "metadata": {},
   "source": [
    "__why we have few records with distance = 0__\n",
    "* there is many accidents with no impact on the road and don't make a large disabled distance in the road   \n",
    "* it's small accident , so the start and end coordinates are same   \n",
    "* based on that we have a few missing values in end_lat , end_lng coulmns    \n",
    "* so we will fill the missing values with start_lat , start_lng"
   ]
  },
  {
   "cell_type": "code",
   "execution_count": null,
   "metadata": {},
   "outputs": [],
   "source": [
    "data['end_lat'].fillna(data['start_lat'], inplace=True)\n",
    "data['end_lng'].fillna(data['start_lng'], inplace=True)"
   ]
  },
  {
   "cell_type": "code",
   "execution_count": null,
   "metadata": {},
   "outputs": [],
   "source": [
    "# convert to object\n",
    "data.start_lat = data.start_lat.astype(object)\n",
    "data.start_lng = data.start_lng.astype(object)\n",
    "data.end_lat = data.end_lat.astype(object)\n",
    "data.end_lng = data.end_lng.astype(object)"
   ]
  },
  {
   "cell_type": "code",
   "execution_count": null,
   "metadata": {},
   "outputs": [],
   "source": [
    "data.info()"
   ]
  },
  {
   "cell_type": "markdown",
   "metadata": {},
   "source": [
    "__filling missing values__\n",
    "* in the following columns we will fill the missing values with median because of outliers"
   ]
  },
  {
   "cell_type": "code",
   "execution_count": null,
   "metadata": {},
   "outputs": [],
   "source": [
    "imputer = SimpleImputer(missing_values=np.nan, strategy='median')\n",
    "data[['humidity(%)','visibility(mi)','wind_speed(mph)','temperature(f)']] = imputer.fit_transform(data[['humidity(%)','visibility(mi)','wind_speed(mph)','temperature(f)']])"
   ]
  },
  {
   "cell_type": "markdown",
   "metadata": {},
   "source": [
    "__detecting outliers and removing it__"
   ]
  },
  {
   "cell_type": "code",
   "execution_count": null,
   "metadata": {},
   "outputs": [],
   "source": [
    "idx = detect_outliers(data, 0,['temperature(f)','wind_speed(mph)'])\n",
    "data.drop(idx , inplace=True)"
   ]
  },
  {
   "cell_type": "code",
   "execution_count": null,
   "metadata": {},
   "outputs": [],
   "source": [
    "idx = data[(data['visibility(mi)']<0) | (data['visibility(mi)']>50)].index\n",
    "data.drop(idx,inplace= True)"
   ]
  },
  {
   "cell_type": "markdown",
   "metadata": {},
   "source": [
    "__filling timezone missing values__\n",
    "* sorting data by the longtude which is the time zone is sorted by \n",
    "* starting from the lowest (US_Pacific) to the highest (US_Estern)"
   ]
  },
  {
   "cell_type": "code",
   "execution_count": null,
   "metadata": {},
   "outputs": [],
   "source": [
    "data.timezone.unique()"
   ]
  },
  {
   "cell_type": "code",
   "execution_count": null,
   "metadata": {},
   "outputs": [],
   "source": [
    "data.sort_values(by= 'start_lng',inplace=True)\n",
    "data.timezone.ffill(inplace=True)"
   ]
  },
  {
   "cell_type": "markdown",
   "metadata": {},
   "source": [
    "__filling missing values with ffill__   \n",
    "_we will fill the missing values with ffill because this is a time series data and we need to fill the missing values with the previous value_    \n",
    "___it's logicaly more accurate___"
   ]
  },
  {
   "cell_type": "code",
   "execution_count": null,
   "metadata": {},
   "outputs": [],
   "source": [
    "data.sort_values(by='start_time',inplace=True)\n",
    "data.sunrise_sunset.ffill(inplace=True)\n",
    "data.weather_condition.ffill(inplace = True)"
   ]
  },
  {
   "cell_type": "markdown",
   "metadata": {},
   "source": [
    "__dropping duplicates and null values__"
   ]
  },
  {
   "cell_type": "code",
   "execution_count": null,
   "metadata": {},
   "outputs": [],
   "source": [
    "data.dropna(inplace=True)"
   ]
  },
  {
   "cell_type": "code",
   "execution_count": null,
   "metadata": {},
   "outputs": [],
   "source": [
    "data.drop_duplicates(inplace=True)"
   ]
  },
  {
   "cell_type": "code",
   "execution_count": null,
   "metadata": {},
   "outputs": [],
   "source": [
    "data.shape\n"
   ]
  },
  {
   "cell_type": "code",
   "execution_count": null,
   "metadata": {},
   "outputs": [],
   "source": [
    "data.reset_index(drop=True, inplace=True)"
   ]
  },
  {
   "cell_type": "code",
   "execution_count": null,
   "metadata": {},
   "outputs": [],
   "source": [
    "data.head(5)"
   ]
  },
  {
   "cell_type": "markdown",
   "metadata": {},
   "source": [
    "# feature engineering"
   ]
  },
  {
   "cell_type": "markdown",
   "metadata": {},
   "source": [
    "__adding new date and time features__"
   ]
  },
  {
   "cell_type": "code",
   "execution_count": null,
   "metadata": {},
   "outputs": [],
   "source": [
    "data['year'] = data['start_time'].dt.year\n",
    "data['month_name'] = data['start_time'].dt.month_name()\n",
    "data['day_name'] = data['start_time'].dt.day_name()\n",
    "data['hour'] = data['start_time'].dt.hour\n",
    "data['duration'] = data['end_time']-data['start_time']\n",
    "\n"
   ]
  },
  {
   "cell_type": "code",
   "execution_count": null,
   "metadata": {},
   "outputs": [],
   "source": [
    "px.box(data, x=data['duration'].dt.days)"
   ]
  },
  {
   "cell_type": "markdown",
   "metadata": {},
   "source": [
    "__dropping outliers in duration__\n",
    "the detect outliers function returns a huge amount of outliers in the duration column that will affect the analysis   \n",
    "we will leave the accidents with duration less than 2 days    \n",
    "the data with 1 day is containing 1 day and up to 23 hours and 59 minutes    \n",
    "_converting it to hours_"
   ]
  },
  {
   "cell_type": "code",
   "execution_count": null,
   "metadata": {},
   "outputs": [],
   "source": [
    "idx = data[data.duration.dt.days >1].index\n",
    "data.drop(idx , inplace=True)"
   ]
  },
  {
   "cell_type": "code",
   "execution_count": null,
   "metadata": {},
   "outputs": [],
   "source": [
    "data.duration = data.duration.dt.total_seconds() / 3600"
   ]
  },
  {
   "cell_type": "markdown",
   "metadata": {},
   "source": [
    "_get season from month name_"
   ]
  },
  {
   "cell_type": "code",
   "execution_count": null,
   "metadata": {},
   "outputs": [],
   "source": [
    "def get_season(x):\n",
    "    if x in ['December', 'January', 'February']:\n",
    "        return 'Winter'\n",
    "    elif x in ['March','April','May']:\n",
    "        return 'Spring'\n",
    "    elif x in ['June','July','August']:\n",
    "        return 'Summer'\n",
    "    elif x in ['September','October','November']:\n",
    "        return 'Autumn'\n",
    "\n",
    "\n",
    "data['season'] = data['month_name'].apply(get_season)"
   ]
  },
  {
   "cell_type": "markdown",
   "metadata": {},
   "source": [
    "_getiing the distance_\n",
    "* there is two ways to git the distance by kilometers   \n",
    "* one is using the geopy library _'takes a lot of time and not accurate with the small distances'_     \n",
    "* another is using the conversion formula   "
   ]
  },
  {
   "cell_type": "code",
   "execution_count": null,
   "metadata": {},
   "outputs": [],
   "source": [
    "# from geopy.distance import great_circle\n",
    "# def get_dist(x):\n",
    "#     loc_1 = (x['start_lat'], x['start_lng'])\n",
    "#     loc_2 = (x['end_lat'], x['end_lng'])\n",
    "#     return great_circle(loc_1, loc_2).kilometers\n",
    "\n",
    "# # apply the fn to df and create new column for distance\n",
    "# data['distance(km)'] = data.apply(get_dist, axis=1)\n",
    "# data.head()"
   ]
  },
  {
   "cell_type": "markdown",
   "metadata": {},
   "source": [
    "* _converting coulumns metrics_"
   ]
  },
  {
   "cell_type": "code",
   "execution_count": null,
   "metadata": {},
   "outputs": [],
   "source": [
    "data['distance(km)'] = data['distance(mi)']*1.60934\n",
    "data.drop(['distance(mi)'],axis=1,inplace=True)"
   ]
  },
  {
   "cell_type": "code",
   "execution_count": null,
   "metadata": {},
   "outputs": [],
   "source": [
    "data['temperature(c)']= (data['temperature(f)']-32)*5/9\n",
    "data.drop(['temperature(f)'],axis=1,inplace=True)"
   ]
  },
  {
   "cell_type": "code",
   "execution_count": null,
   "metadata": {},
   "outputs": [],
   "source": [
    "data['visibility(km)'] = data['visibility(mi)']*1.60934\n",
    "data.drop(['visibility(mi)'],axis=1,inplace=True)"
   ]
  },
  {
   "cell_type": "code",
   "execution_count": null,
   "metadata": {},
   "outputs": [],
   "source": [
    "data['wind_speed(kmh)'] = data['wind_speed(mph)']*1.60934\n",
    "data.drop(['wind_speed(mph)'],axis=1,inplace=True)"
   ]
  },
  {
   "cell_type": "markdown",
   "metadata": {},
   "source": [
    "__weather condition__    \n",
    "the weather condition is a categorical column that has a lot of values that will affect the analysis    \n",
    "we will categorize the weather condition into 7 categories: _'Rain'  'Cloudy'  'Snow'  'Clear' 'Fog/Mist/Haze' 'Storm' 'Other'_"
   ]
  },
  {
   "cell_type": "code",
   "execution_count": null,
   "metadata": {},
   "outputs": [],
   "source": [
    "data.weather_condition.unique()"
   ]
  },
  {
   "cell_type": "code",
   "execution_count": null,
   "metadata": {},
   "outputs": [],
   "source": [
    "def categorize_weather(condition):\n",
    "    condition = condition.lower()\n",
    "    if 'clear' in condition or 'fair' in condition :\n",
    "        return 'Clear'\n",
    "    elif 'cloud' in condition or 'overcast' in condition or 'partly' in condition or 'scattered' in condition:\n",
    "        return 'Cloudy'\n",
    "    elif 'rain' in condition or 'drizzle' in condition or 'showers' in condition:\n",
    "        return 'Rain'\n",
    "    elif 'snow' in condition or 'sleet' in condition or 'ice pellets' in condition:\n",
    "        return 'Snow'\n",
    "    elif 'fog' in condition or 'mist' in condition or 'haze' in condition:\n",
    "        return 'Fog/Mist/Haze'\n",
    "    elif 'storm' in condition or 'thunder' in condition or 't-storm' in condition or 'tornado' in condition:\n",
    "        return 'Storm'\n",
    "    elif 'freezing' in condition:\n",
    "        return 'Freezing'\n",
    "    else:\n",
    "        return 'Other'\n",
    "\n",
    "data['weather_condition'] = data['weather_condition'].apply(categorize_weather)"
   ]
  },
  {
   "cell_type": "code",
   "execution_count": null,
   "metadata": {},
   "outputs": [],
   "source": [
    "data.weather_condition.unique()"
   ]
  },
  {
   "cell_type": "markdown",
   "metadata": {},
   "source": [
    "__ordering the columns__"
   ]
  },
  {
   "cell_type": "code",
   "execution_count": null,
   "metadata": {},
   "outputs": [],
   "source": [
    "columns_order = ['severity', 'start_time', 'end_time','duration','hour',\n",
    "       'day_name', 'month_name', 'year' ,'season', 'start_lat', 'start_lng', 'end_lat', 'end_lng','timezone','distance(km)', 'city','county','state','country', 'temperature(c)','humidity(%)', 'visibility(km)', 'wind_speed(kmh)', 'weather_condition', 'sunrise_sunset']\n",
    "data = data.reindex(columns=columns_order)\n"
   ]
  },
  {
   "cell_type": "code",
   "execution_count": null,
   "metadata": {},
   "outputs": [],
   "source": [
    "data.head()\n"
   ]
  },
  {
   "cell_type": "markdown",
   "metadata": {},
   "source": [
    "_The used color scheme_    \n",
    "**px.colors.sequential.Emrld_r**\n"
   ]
  },
  {
   "cell_type": "markdown",
   "metadata": {},
   "source": [
    "# SEVERITY Analysis\n",
    "* the most frequent severity is level '2' \n",
    "* the sevirity levels is sorted by lowest to highest 1:4"
   ]
  },
  {
   "cell_type": "code",
   "execution_count": null,
   "metadata": {},
   "outputs": [],
   "source": [
    "fig =px.bar(data, x=data.severity.value_counts().index, y=data.severity.value_counts().values,\n",
    "         title=\"severity frequency\",color_discrete_sequence=px.colors.sequential.Emrld_r)\n",
    "fig.update_layout(xaxis_title=\"Severity\",yaxis_title=\"Frequency\",title_x=0.5)"
   ]
  },
  {
   "cell_type": "code",
   "execution_count": null,
   "metadata": {},
   "outputs": [],
   "source": [
    "severity_df = pd.DataFrame(data['severity'].value_counts()).rename(columns={'index':'Severity', 'count':'Cases'})\n",
    "fig = go.Figure(go.Funnelarea(\n",
    "    text = [\"Severity - 2\",\"Severity - 3\", \"Severity - 4\", \"Severity - 1\"],\n",
    "    values = severity_df.Cases,title= \"the impact of accedint on the road\"))\n",
    "\n",
    "fig.show()"
   ]
  },
  {
   "cell_type": "code",
   "execution_count": null,
   "metadata": {},
   "outputs": [],
   "source": [
    "fig = px.scatter(data,x= 'start_lng',y='start_lat',color= 'severity',color_continuous_scale=px.colors.sequential.Hot,hover_name='city')\n",
    "fig.update_layout(title_text=\"Accidents distribution in the US\",title_x=0.5, width=800, height=600)"
   ]
  },
  {
   "cell_type": "markdown",
   "metadata": {},
   "source": [
    "# TIME ANALYSIS\n",
    "_2023 year not really expresses the number of accedints in 2023 'its only to march'_        \n",
    "1-In which year the most accidents happend in US?       \n",
    "2- which month have the most number of accidents and why?               \n",
    "3- how could the season affect the numbers of accedints ?       \n",
    "4 -what day have the most number of accidents?      \n",
    "5- what is the rush hours with accidents?       \n",
    "6- how could the Day - Night affect the numbers of accedints        "
   ]
  },
  {
   "cell_type": "markdown",
   "metadata": {},
   "source": [
    "**we will answer this question with this visualisation**"
   ]
  },
  {
   "cell_type": "code",
   "execution_count": null,
   "metadata": {},
   "outputs": [],
   "source": [
    "data.info()"
   ]
  },
  {
   "cell_type": "code",
   "execution_count": null,
   "metadata": {},
   "outputs": [],
   "source": [
    "cols = ['year', 'month_name',  'season','day_name', 'hour', 'sunrise_sunset']\n",
    "for col in cols :\n",
    "    fig = px.bar(data, x=data[col].value_counts().index, y=data[col].value_counts().values,\n",
    "             title=col+\" frequency\",color = data[col].value_counts().values,text_auto = True ,color_continuous_scale=px.colors.sequential.Emrld)\n",
    "    fig.update_layout(xaxis_title=col,yaxis_title=\"Frequency\",title_x=0.5)\n",
    "    fig.show()"
   ]
  },
  {
   "cell_type": "code",
   "execution_count": null,
   "metadata": {},
   "outputs": [],
   "source": [
    "duration = data[data.duration < 10]\n",
    "px.histogram(duration,duration.duration,nbins = 10,color_discrete_sequence=px.colors.sequential.Emrld_r)"
   ]
  },
  {
   "cell_type": "markdown",
   "metadata": {},
   "source": [
    "# insights\n",
    "* 2022 is the year with most number of accidents with 22.65% of all accidents\n",
    "\n",
    "* December is the peak month with 25.48 % of the accidents ; its most likely to be because DEC is rainy and snow month and the roads most time is wet which affect the driving control  \n",
    "\n",
    "* Winter and autumn is seasons with _Weather fluctuations_ and has a huge impact on the accidents ocurrance both of them got a 28.5% , 27.44% of the accidents   \n",
    "\n",
    "* most days have likly percentages put suterday and sunday is the lowest among them because its weekend and most of people is satying home in weekend  \n",
    "\n",
    "* hours with most accedints is the typical start and end time of work \"the ruch hours\" 7 and 8 is the peak in the morning and 4 and 5 is the peak in the evening \n",
    "     \n",
    "* the most accedints is made in the day light and its likely because the work hours \n",
    "\n",
    "* most accidents impact is under the 1 hour duration \n"
   ]
  },
  {
   "cell_type": "markdown",
   "metadata": {},
   "source": [
    "# WEATHER ANALYSIS"
   ]
  },
  {
   "cell_type": "code",
   "execution_count": null,
   "metadata": {},
   "outputs": [],
   "source": [
    "px.histogram(data,'temperature(c)',nbins=10, marginal = 'box',text_auto = True,color_discrete_sequence=px.colors.sequential.Emrld_r)\n",
    "\n"
   ]
  },
  {
   "cell_type": "markdown",
   "metadata": {},
   "source": [
    "__IN the _Temperature_ range of (10 to 30) 67.47% of the road accidents occurred__"
   ]
  },
  {
   "cell_type": "code",
   "execution_count": null,
   "metadata": {},
   "outputs": [],
   "source": [
    "px.histogram(data,'humidity(%)',nbins=10, marginal = 'box',text_auto = True,color_discrete_sequence=px.colors.sequential.Emrld_r)\n"
   ]
  },
  {
   "cell_type": "markdown",
   "metadata": {},
   "source": [
    "__IN the _Humidity_ range of (60 to 70) 15.96 of the road accidents occurred__     \n",
    "For around 45.42% of road accident cases , the _humidity_ range is between __(60 to 90)__"
   ]
  },
  {
   "cell_type": "code",
   "execution_count": null,
   "metadata": {},
   "outputs": [],
   "source": [
    "px.histogram(data,'visibility(km)',nbins=10, marginal = 'box',text_auto = True,color_discrete_sequence=px.colors.sequential.Emrld_r)\n"
   ]
  },
  {
   "cell_type": "markdown",
   "metadata": {},
   "source": [
    "\n",
    "In **Maximun cases (81.34%)** of road accidents , the __Visivility range is between 15 km to 25 km__"
   ]
  },
  {
   "cell_type": "code",
   "execution_count": null,
   "metadata": {},
   "outputs": [],
   "source": [
    "\n",
    "px.histogram(data,'wind_speed(kmh)',nbins=10, marginal = 'box',text_auto = True,color_discrete_sequence=px.colors.sequential.Emrld_r)"
   ]
  },
  {
   "cell_type": "markdown",
   "metadata": {},
   "source": [
    "In the most cases around __40% of the accidents__ occurred while **_wind speed_** is between 7.5 kmh and 12.5 kmh"
   ]
  },
  {
   "cell_type": "code",
   "execution_count": null,
   "metadata": {},
   "outputs": [],
   "source": [
    "weather = data.groupby('weather_condition').size().nlargest(10) / len(data) * 100\n",
    "px.bar(weather,x=weather.index,y=weather.values,text_auto=True,title = 'percentage of weather condition occurance',color_discrete_sequence=px.colors.sequential.Emrld_r)\n"
   ]
  },
  {
   "cell_type": "markdown",
   "metadata": {},
   "source": [
    "in total accident cases __45.7 %__ happend in _clear weather_"
   ]
  },
  {
   "cell_type": "code",
   "execution_count": null,
   "metadata": {},
   "outputs": [],
   "source": [
    "px.box(data,x='weather_condition',y='temperature(c)' ,color= 'weather_condition',color_discrete_sequence=px.colors.sequential.Emrld_r)"
   ]
  },
  {
   "cell_type": "markdown",
   "metadata": {},
   "source": [
    "the __temperature__ distribution over each _weather_ condition "
   ]
  },
  {
   "cell_type": "code",
   "execution_count": null,
   "metadata": {},
   "outputs": [],
   "source": [
    "px.imshow(data.corr(numeric_only=True),color_continuous_scale=px.colors.sequential.Emrld_r)"
   ]
  },
  {
   "cell_type": "markdown",
   "metadata": {},
   "source": [
    "there is no coorelation between the numerical columns"
   ]
  },
  {
   "cell_type": "code",
   "execution_count": null,
   "metadata": {},
   "outputs": [],
   "source": [
    "data.describe().round(2)"
   ]
  },
  {
   "cell_type": "markdown",
   "metadata": {},
   "source": [
    "# LOCATION ANALYSIS"
   ]
  },
  {
   "cell_type": "code",
   "execution_count": null,
   "metadata": {},
   "outputs": [],
   "source": [
    "# top 10 city percentages from accidents\n",
    "top_citys_percentage = data.groupby('city').size().nlargest(10) / len(data) * 100\n",
    "\n",
    "# plot the top 10 city percentages\n",
    "px.bar(top_citys_percentage, x=top_citys_percentage.index, y=top_citys_percentage.values,text_auto= True,\n",
    "       title=\"Top 10 city percentages from accidents\",color_discrete_sequence=px.colors.sequential.Emrld_r)\n",
    "\n"
   ]
  },
  {
   "cell_type": "markdown",
   "metadata": {},
   "source": [
    "* __insights:__\n",
    "1. **Miami** is the city with **highest (2.43%)** no. of road accidents in US (2016-2023).\n",
    "2. **Houston** is the city with **2nd highest (2.19%)** no. of road accidents in US (2016-2023). \n",
    "3. Around **16.6%** accident records of past 8 years are only from these **10 cities** out of 8884 cities in US"
   ]
  },
  {
   "cell_type": "code",
   "execution_count": null,
   "metadata": {},
   "outputs": [],
   "source": [
    "# top 10 state percentages from accidents\n",
    "top_states_percentage = data.groupby('state').size().nlargest(10) / len(data) * 100\n",
    "\n",
    "# plot the top 10 state percentages\n",
    "px.bar(top_states_percentage, x=top_states_percentage.index, y=top_states_percentage.values,text_auto= True,\n",
    "       title=\"Top 10 state percentages from accidents\",color_discrete_sequence=px.colors.sequential.Emrld_r)\n",
    "\n"
   ]
  },
  {
   "cell_type": "markdown",
   "metadata": {},
   "source": [
    "* **insights:**\n",
    "1. in US , **California** is the state with the **highest no of road accidents** \n",
    "2. About **22.9%** of the total accident record in US is only form **California**\n",
    "3. **Florida** is the **2nd highest (11.48% cases)** state for no. road accidents in US."
   ]
  },
  {
   "cell_type": "code",
   "execution_count": null,
   "metadata": {},
   "outputs": [],
   "source": [
    "# top 10 state percentages from accidents\n",
    "top_states_percentage = data.groupby('state').size().nsmallest(10) / len(data) * 100\n",
    "\n",
    "# plot the top 10 state percentages\n",
    "px.bar(top_states_percentage, x=top_states_percentage.index, y=top_states_percentage.values,text_auto= True,\n",
    "       title=\"Top 10 state percentages from accidents\",color_discrete_sequence=px.colors.sequential.Emrld_r)\n",
    "\n"
   ]
  },
  {
   "cell_type": "markdown",
   "metadata": {},
   "source": [
    "* insights:\n",
    "1. **South Dakota** is the city with lowest no. of road accidents.\n",
    "2. only ***1800*** accidents took place in **South Dakota**"
   ]
  },
  {
   "cell_type": "code",
   "execution_count": null,
   "metadata": {},
   "outputs": [],
   "source": [
    "# top 10 county percentages from accidents\n",
    "top_countys_percentage = data.groupby('county').size().nlargest(10) / len(data) * 100\n",
    "\n",
    "# plot the top 10 county percentages\n",
    "px.bar(top_countys_percentage, x=top_countys_percentage.index, y=top_countys_percentage.values,text_auto= True,\n",
    "       title=\"Top 10 county percentages from accidents\",color_discrete_sequence=px.colors.sequential.Emrld_r)\n",
    "\n"
   ]
  },
  {
   "cell_type": "markdown",
   "metadata": {},
   "source": [
    "**INSIGHTS**\n",
    "* **LOS ANGELES** is the county with the **highest no. of road accidents** _(7.1%)_ of total accidents in US\n",
    "* **MIAMI-DADE** is the county with the **2nd highest no. of road accidents**  in US\n",
    "* About **26 %** of the total accident record in US is only form the TOP 10 counties"
   ]
  },
  {
   "cell_type": "code",
   "execution_count": null,
   "metadata": {},
   "outputs": [],
   "source": [
    "\n",
    "timezone = data.groupby('timezone').size().sort_values(ascending=False) / len(data) * 100\n",
    "px.bar(timezone, x=timezone.index, y=timezone.values,text_auto= True,\n",
    "       title=\"Percentage of Accidents per Timezone\",color_discrete_sequence=px.colors.sequential.Emrld_r)\n",
    "\n"
   ]
  },
  {
   "cell_type": "markdown",
   "metadata": {},
   "source": [
    "* **INSIGHTS**   \n",
    "1. **Eastern** time zone reagion of **US** has the **highest no. of road accident cases (46.78%)**\n",
    "2. **Mountain** time zone reagion of **US** has the **lowest no. of road accident cases (5.5%)**\n"
   ]
  },
  {
   "cell_type": "code",
   "execution_count": null,
   "metadata": {},
   "outputs": [],
   "source": [
    "fig = px.scatter(data,x= 'start_lng',y='start_lat',color= 'timezone',color_discrete_sequence=px.colors.sequential.solar,hover_name='city')\n",
    "fig.update_layout(title_text=\"Accidents distribution in each time zone\",title_x=0.5, width=800, height=600)"
   ]
  },
  {
   "cell_type": "markdown",
   "metadata": {},
   "source": [
    "# ACCIDENTS CONDITIONS ANALYSIS\n",
    "* Identifying each accident condition percentages and what is the majority in each condition"
   ]
  },
  {
   "cell_type": "code",
   "execution_count": null,
   "metadata": {},
   "outputs": [],
   "source": [
    "accidents_conditions.head(10)"
   ]
  },
  {
   "cell_type": "code",
   "execution_count": null,
   "metadata": {},
   "outputs": [],
   "source": [
    "accidents_conditions.columns"
   ]
  },
  {
   "cell_type": "markdown",
   "metadata": {},
   "source": [
    "# INSIGHTS"
   ]
  },
  {
   "cell_type": "code",
   "execution_count": null,
   "metadata": {},
   "outputs": [],
   "source": [
    "px.pie(accidents_conditions, names = accidents_conditions.bump.value_counts().index ,values =accidents_conditions.bump.value_counts().values.tolist() ,title = 'prescene of Bumper',hole = 0.5, color_discrete_sequence=px.colors.sequential.Emrld_r)"
   ]
  },
  {
   "cell_type": "markdown",
   "metadata": {},
   "source": [
    "* Almost in every case **(99.95%)** of the road accidents **Bumper** was **absent** in accident spot"
   ]
  },
  {
   "cell_type": "code",
   "execution_count": null,
   "metadata": {},
   "outputs": [],
   "source": [
    "px.pie(accidents_conditions, names = accidents_conditions.crossing.value_counts().index ,values =accidents_conditions.crossing.value_counts().values.tolist() ,title = 'prescene of crossing',hole = 0.5, color_discrete_sequence=px.colors.sequential.Emrld_r)"
   ]
  },
  {
   "cell_type": "markdown",
   "metadata": {},
   "source": [
    "* In **5.7%** cases, road accidents happened **near the crossing**."
   ]
  },
  {
   "cell_type": "code",
   "execution_count": null,
   "metadata": {},
   "outputs": [],
   "source": [
    "px.pie(accidents_conditions, names = accidents_conditions.give_way.value_counts().index ,values =accidents_conditions.give_way.value_counts().values.tolist() ,title = 'prescene of Give Way',hole = 0.5, color_discrete_sequence=px.colors.sequential.Emrld_r)"
   ]
  },
  {
   "cell_type": "markdown",
   "metadata": {},
   "source": [
    "* only a **0.5%** of the road accidents happened **while giving way**."
   ]
  },
  {
   "cell_type": "code",
   "execution_count": null,
   "metadata": {},
   "outputs": [],
   "source": [
    "px.pie(accidents_conditions, names = accidents_conditions.junction.value_counts().index ,values =accidents_conditions.junction.value_counts().values.tolist() ,title = 'prescene of junction',hole = 0.5, color_discrete_sequence=px.colors.sequential.Emrld_r)"
   ]
  },
  {
   "cell_type": "markdown",
   "metadata": {},
   "source": [
    "* In **7.45%** cases, road accidents happened **near the junction , cross road**."
   ]
  },
  {
   "cell_type": "code",
   "execution_count": null,
   "metadata": {},
   "outputs": [],
   "source": [
    "px.pie(accidents_conditions, names = accidents_conditions.stop.value_counts().index ,values =accidents_conditions.stop.value_counts().values.tolist() ,title = 'prescene of stop',hole = 0.5, color_discrete_sequence=px.colors.sequential.Emrld_r)"
   ]
  },
  {
   "cell_type": "markdown",
   "metadata": {},
   "source": [
    "* In **2.82%** cases, road accidents happened **while near or the stop area**."
   ]
  },
  {
   "cell_type": "code",
   "execution_count": null,
   "metadata": {},
   "outputs": [],
   "source": [
    "px.pie(accidents_conditions, names = accidents_conditions.traffic_signal.value_counts().index ,values =accidents_conditions.traffic_signal.value_counts().values.tolist() ,title = 'prescene of Traffic Signal',hole = 0.5, color_discrete_sequence=px.colors.sequential.Emrld_r)"
   ]
  },
  {
   "cell_type": "markdown",
   "metadata": {},
   "source": [
    "* around **15%** of the road accidents happened **while near or in the traffic signal**."
   ]
  },
  {
   "cell_type": "code",
   "execution_count": null,
   "metadata": {},
   "outputs": [],
   "source": [
    "px.pie(accidents_conditions, names = accidents_conditions.turning_loop.value_counts().index ,values =accidents_conditions.turning_loop.value_counts().values.tolist() ,title = 'prescene of Turning Loop',hole = 0.5, color_discrete_sequence=px.colors.sequential.Emrld_r)"
   ]
  },
  {
   "cell_type": "markdown",
   "metadata": {},
   "source": [
    "* there is **no** accidents happend while **Turning Loop**"
   ]
  },
  {
   "cell_type": "code",
   "execution_count": null,
   "metadata": {},
   "outputs": [],
   "source": [
    "!pipreqs ./"
   ]
  },
  {
   "cell_type": "markdown",
   "metadata": {},
   "source": [
    "# End Of Analysis"
   ]
  }
 ],
 "metadata": {
  "kernelspec": {
   "display_name": "base",
   "language": "python",
   "name": "python3"
  },
  "language_info": {
   "codemirror_mode": {
    "name": "ipython",
    "version": 3
   },
   "file_extension": ".py",
   "mimetype": "text/x-python",
   "name": "python",
   "nbconvert_exporter": "python",
   "pygments_lexer": "ipython3",
   "version": "3.8.19"
  }
 },
 "nbformat": 4,
 "nbformat_minor": 2
}
